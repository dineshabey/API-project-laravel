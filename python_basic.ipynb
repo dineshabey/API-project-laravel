{
  "nbformat": 4,
  "nbformat_minor": 0,
  "metadata": {
    "colab": {
      "provenance": [],
      "authorship_tag": "ABX9TyMWK8U+K9XctxaRQ0TdiH6m",
      "include_colab_link": true
    },
    "kernelspec": {
      "name": "python3",
      "display_name": "Python 3"
    },
    "language_info": {
      "name": "python"
    }
  },
  "cells": [
    {
      "cell_type": "markdown",
      "metadata": {
        "id": "view-in-github",
        "colab_type": "text"
      },
      "source": [
        "<a href=\"https://colab.research.google.com/github/dineshabey/API-project-laravel/blob/master/python_basic.ipynb\" target=\"_parent\"><img src=\"https://colab.research.google.com/assets/colab-badge.svg\" alt=\"Open In Colab\"/></a>"
      ]
    },
    {
      "cell_type": "code",
      "execution_count": null,
      "metadata": {
        "colab": {
          "base_uri": "https://localhost:8080/"
        },
        "id": "-BQIdvNpQ1z1",
        "outputId": "9dcf6432-aa32-48bc-91a3-80cefe9d6cf4"
      },
      "outputs": [
        {
          "output_type": "stream",
          "name": "stdout",
          "text": [
            "7\n"
          ]
        }
      ],
      "source": [
        "#create integer variyable\n",
        "\n",
        "x=7\n",
        "print(x)"
      ]
    },
    {
      "cell_type": "code",
      "source": [
        "#string variyable\n",
        "y = \"Python Basic\"\n",
        "print(y)\n"
      ],
      "metadata": {
        "colab": {
          "base_uri": "https://localhost:8080/"
        },
        "id": "HoL_ojDLSeaU",
        "outputId": "31a8741a-19a9-46ba-b4c4-b56d34a0d79a"
      },
      "execution_count": null,
      "outputs": [
        {
          "output_type": "stream",
          "name": "stdout",
          "text": [
            "Python Basic\n"
          ]
        }
      ]
    },
    {
      "cell_type": "code",
      "source": [
        "#multiple variyable\n",
        "x,y,z,v =\"A\",\"B\",\"C\",\"D\"\n",
        "print(x)\n",
        "print(v)"
      ],
      "metadata": {
        "colab": {
          "base_uri": "https://localhost:8080/"
        },
        "id": "5FaiFe9KSwyk",
        "outputId": "75fb2612-11d3-4732-fe4d-f67f516e649a"
      },
      "execution_count": null,
      "outputs": [
        {
          "output_type": "stream",
          "name": "stdout",
          "text": [
            "A\n",
            "D\n"
          ]
        }
      ]
    },
    {
      "cell_type": "code",
      "source": [
        "#function\n",
        "my_income = 100\n",
        "tax_rate = 0.11\n",
        "my_taxes =  my_income * tax_rate\n",
        "print(my_taxes)\n",
        "print(type(my_taxes))"
      ],
      "metadata": {
        "colab": {
          "base_uri": "https://localhost:8080/"
        },
        "id": "RhHw_83UTpUE",
        "outputId": "85b496b8-7343-48c7-e947-af6e6c222da3"
      },
      "execution_count": null,
      "outputs": [
        {
          "output_type": "stream",
          "name": "stdout",
          "text": [
            "11.0\n",
            "<class 'float'>\n"
          ]
        }
      ]
    },
    {
      "cell_type": "code",
      "source": [
        "#install packages - numpy\n",
        "!pip install numpy"
      ],
      "metadata": {
        "colab": {
          "base_uri": "https://localhost:8080/"
        },
        "id": "hWMuWO8P3gei",
        "outputId": "393446ef-d92c-4931-adb4-3d98aae02cbf"
      },
      "execution_count": null,
      "outputs": [
        {
          "output_type": "stream",
          "name": "stdout",
          "text": [
            "Requirement already satisfied: numpy in /usr/local/lib/python3.10/dist-packages (1.23.5)\n"
          ]
        }
      ]
    },
    {
      "cell_type": "code",
      "source": [
        "#array - using numpy package\n",
        "import numpy\n",
        "\n",
        "arr = numpy.array([1,2,3,4,5])\n",
        "arr2 = numpy.array([1,'A',4])\n",
        "print(arr)\n",
        "print(arr2)\n",
        "print(type(arr)) #array type"
      ],
      "metadata": {
        "colab": {
          "base_uri": "https://localhost:8080/"
        },
        "id": "W8RJShKtH5F6",
        "outputId": "b693074a-445a-4f35-86c2-b784535fe220"
      },
      "execution_count": 1,
      "outputs": [
        {
          "output_type": "stream",
          "name": "stdout",
          "text": [
            "[1 2 3 4 5]\n",
            "['1' 'A' '4']\n",
            "<class 'numpy.ndarray'>\n"
          ]
        }
      ]
    },
    {
      "cell_type": "code",
      "source": [
        "#2d - array numpy\n",
        "\n",
        "two_d_arr = numpy.array([[1,2,3],[4,5,6]])\n",
        "print(two_d_arr)\n",
        "print(type(two_d_arr))"
      ],
      "metadata": {
        "colab": {
          "base_uri": "https://localhost:8080/"
        },
        "id": "hw9hwDS0I0ep",
        "outputId": "a0f85895-0a24-4a03-9a7d-2cc7fcc96330"
      },
      "execution_count": 2,
      "outputs": [
        {
          "output_type": "stream",
          "name": "stdout",
          "text": [
            "[[1 2 3]\n",
            " [4 5 6]]\n",
            "<class 'numpy.ndarray'>\n"
          ]
        }
      ]
    },
    {
      "cell_type": "code",
      "source": [
        "#3D-array\n",
        "\n",
        "import numpy as np\n",
        "\n",
        "\n",
        "thre_d_array = np.array([[[1,2,3],[4,5,6],[7,8,9]]])\n",
        "print(thre_d_array)\n",
        "print(type(thre_d_array))\n",
        "\n",
        "#check array diamention using - ndim\n",
        "print(thre_d_array.ndim)"
      ],
      "metadata": {
        "colab": {
          "base_uri": "https://localhost:8080/"
        },
        "id": "YRbEq76JJiHf",
        "outputId": "36e3aa31-f847-469f-e0e0-7ee8ba1747b8"
      },
      "execution_count": null,
      "outputs": [
        {
          "output_type": "stream",
          "name": "stdout",
          "text": [
            "[[[1 2 3]\n",
            "  [4 5 6]\n",
            "  [7 8 9]]]\n",
            "<class 'numpy.ndarray'>\n",
            "3\n"
          ]
        }
      ]
    },
    {
      "cell_type": "code",
      "source": [
        "#array - sort\n",
        "\n",
        "arr = numpy.array(['Dinesh','Zebra','Abeysinghe','Macbook','Mackbook-pro'])\n",
        "print(numpy.sort(arr)) #array sort\n",
        "print(type(arr))"
      ],
      "metadata": {
        "colab": {
          "base_uri": "https://localhost:8080/"
        },
        "id": "p0H9WkZlLwRo",
        "outputId": "d6f0ce37-90c1-4619-effd-dc11f19218c6"
      },
      "execution_count": 5,
      "outputs": [
        {
          "output_type": "stream",
          "name": "stdout",
          "text": [
            "['Abeysinghe' 'Dinesh' 'Macbook' 'Mackbook-pro' 'Zebra']\n",
            "<class 'numpy.ndarray'>\n"
          ]
        }
      ]
    },
    {
      "cell_type": "code",
      "source": [
        "#Python pandas package\n",
        "\n",
        "#Series - data structures - can use for timebase data\n",
        "\n",
        "import pandas as pd\n",
        "\n",
        "calories = {\"day1\":420,\"day2\":300,\"day3\":400}\n",
        "\n",
        "newData = pd.Series(calories)\n",
        "print(newData)"
      ],
      "metadata": {
        "colab": {
          "base_uri": "https://localhost:8080/"
        },
        "id": "oW4VraRSNmG6",
        "outputId": "049a695d-8a76-4710-daf9-918a47b1f1d9"
      },
      "execution_count": 7,
      "outputs": [
        {
          "output_type": "stream",
          "name": "stdout",
          "text": [
            "day1    420\n",
            "day2    300\n",
            "day3    400\n",
            "dtype: int64\n"
          ]
        }
      ]
    },
    {
      "cell_type": "code",
      "source": [
        "#Pandas - date_range - date range generate\n",
        "\n",
        "dateRange = pd.date_range('20231117',periods=30)\n",
        "print(dateRange)"
      ],
      "metadata": {
        "colab": {
          "base_uri": "https://localhost:8080/"
        },
        "id": "_Rub8WDEOwGQ",
        "outputId": "b4fae98e-0174-44ae-d025-a3ce7cce98bb"
      },
      "execution_count": 17,
      "outputs": [
        {
          "output_type": "stream",
          "name": "stdout",
          "text": [
            "DatetimeIndex(['2023-11-17', '2023-11-18', '2023-11-19', '2023-11-20',\n",
            "               '2023-11-21', '2023-11-22', '2023-11-23', '2023-11-24',\n",
            "               '2023-11-25', '2023-11-26', '2023-11-27', '2023-11-28',\n",
            "               '2023-11-29', '2023-11-30', '2023-12-01', '2023-12-02',\n",
            "               '2023-12-03', '2023-12-04', '2023-12-05', '2023-12-06',\n",
            "               '2023-12-07', '2023-12-08', '2023-12-09', '2023-12-10',\n",
            "               '2023-12-11', '2023-12-12', '2023-12-13', '2023-12-14',\n",
            "               '2023-12-15', '2023-12-16'],\n",
            "              dtype='datetime64[ns]', freq='D')\n"
          ]
        }
      ]
    },
    {
      "cell_type": "code",
      "source": [
        "#Pandas - DataFrame - Rows and Colums setup\n",
        "\n",
        "data={\n",
        "    \"calories\":[452,55,60],\n",
        "    \"duration\":[60,35,10],\n",
        "\n",
        "}\n",
        "\n",
        "myCalData = pd.DataFrame(data)\n",
        "print(myCalData)"
      ],
      "metadata": {
        "colab": {
          "base_uri": "https://localhost:8080/"
        },
        "id": "I79-yVzNQcD2",
        "outputId": "13fcc72f-3a38-411b-c70c-a8762ae36b2d"
      },
      "execution_count": 18,
      "outputs": [
        {
          "output_type": "stream",
          "name": "stdout",
          "text": [
            "   calories  duration\n",
            "0       452        60\n",
            "1        55        35\n",
            "2        60        10\n"
          ]
        }
      ]
    },
    {
      "cell_type": "code",
      "source": [
        "\n",
        "#Can use with panda DataFrame - numbers/TimeStamp/Series/Array with different packages/Categorical/String\n",
        "\n",
        "import numpy as np\n",
        "\n",
        "df2 = pd.DataFrame({\n",
        "    'A':1, #numbrs\n",
        "    'B':pd.Timestamp('20231010'), #TimeStamp\n",
        "    'C':pd.Series(1,index=list(range(4)),dtype='float32'), #Series\n",
        "    'D':np.array([3]*4,dtype='int32'), #array\n",
        "    'E':pd.Categorical([\"test\",\"train\",\"test\",\"train\"]), #Categorical\n",
        "    'F':'foo' #string\n",
        "})\n",
        "\n",
        "print(df2)\n",
        "\n",
        "#Esily can convert /export data to CSV file\n",
        "\n",
        "df2.to_csv(\"test.csv\")"
      ],
      "metadata": {
        "colab": {
          "base_uri": "https://localhost:8080/"
        },
        "id": "ilvJejrFRF1b",
        "outputId": "b27d4d29-380f-4dd5-fb7e-b57a71bf5877"
      },
      "execution_count": 22,
      "outputs": [
        {
          "output_type": "stream",
          "name": "stdout",
          "text": [
            "   A          B    C  D      E    F\n",
            "0  1 2023-10-10  1.0  3   test  foo\n",
            "1  1 2023-10-10  1.0  3  train  foo\n",
            "2  1 2023-10-10  1.0  3   test  foo\n",
            "3  1 2023-10-10  1.0  3  train  foo\n"
          ]
        }
      ]
    },
    {
      "cell_type": "code",
      "source": [
        "!pip install pycountry\n"
      ],
      "metadata": {
        "id": "c0TsjU3nXcuW"
      },
      "execution_count": null,
      "outputs": []
    },
    {
      "cell_type": "code",
      "source": [
        "#Created csv file for analysis\n",
        "\n",
        "import pandas as pd\n",
        "import random\n",
        "import pycountry\n",
        "\n",
        "# Get a list of all country names\n",
        "all_countries = [country.name for country in pycountry.countries]\n",
        "\n",
        "# Define continent abbreviations\n",
        "continents = ['US', 'EU', 'AS', 'SA', 'AF', 'OC']\n",
        "\n",
        "# Randomly select 1000 country names\n",
        "selected_countries = random.sample(all_countries, 1000) if len(all_countries) >= 1000 else all_countries\n",
        "\n",
        "data = {\n",
        "    'Country': selected_countries,\n",
        "    'Beer_Servings': [random.randint(50, 500) for _ in range(len(selected_countries))],\n",
        "    'Wine_Servings': [random.randint(20, 200) for _ in range(len(selected_countries))],\n",
        "    'Total_Liters_of_Pure': [random.uniform(1, 10) for _ in range(len(selected_countries))],\n",
        "    'Continent': [random.choice(continents) for _ in range(len(selected_countries))]\n",
        "}\n",
        "\n",
        "df = pd.DataFrame(data)\n",
        "\n",
        "# Save DataFrame to a CSV file\n",
        "df.to_csv('fake_data_all_countries3.csv', index=False)\n"
      ],
      "metadata": {
        "id": "lQvSiUe9fI-r"
      },
      "execution_count": 32,
      "outputs": []
    },
    {
      "cell_type": "code",
      "source": [
        "#Read files\n",
        "\n",
        "import numpy as np\n",
        "import pandas as pd\n",
        "\n",
        "drinks = pd.read_csv('fake_data_all_countries3.csv')\n",
        "print(drinks)\n"
      ],
      "metadata": {
        "colab": {
          "base_uri": "https://localhost:8080/"
        },
        "id": "1tivpywIXfXy",
        "outputId": "c671fbcd-eda3-4ef7-f666-a37e04451c3c"
      },
      "execution_count": 31,
      "outputs": [
        {
          "output_type": "stream",
          "name": "stdout",
          "text": [
            "           Country  Beer_Servings  Wine_Servings  Total_Liters_of_Pure  \\\n",
            "0            Aruba            406            170              5.659768   \n",
            "1      Afghanistan            294             89              2.879947   \n",
            "2           Angola            373             69              1.247117   \n",
            "3         Anguilla            397            146              8.778993   \n",
            "4    Åland Islands            405            160              4.780515   \n",
            "..             ...            ...            ...                   ...   \n",
            "244          Samoa            406            113              4.221415   \n",
            "245          Yemen            240            151              4.621098   \n",
            "246   South Africa            288            185              2.665591   \n",
            "247         Zambia            303            113              4.487443   \n",
            "248       Zimbabwe             74            104              6.105018   \n",
            "\n",
            "    Continent  \n",
            "0          AS  \n",
            "1          AS  \n",
            "2          EU  \n",
            "3          AS  \n",
            "4          EU  \n",
            "..        ...  \n",
            "244        AS  \n",
            "245        AS  \n",
            "246        AF  \n",
            "247        EU  \n",
            "248        US  \n",
            "\n",
            "[249 rows x 5 columns]\n"
          ]
        }
      ]
    },
    {
      "cell_type": "code",
      "source": [
        "print(drinks.head()) #summary of files head"
      ],
      "metadata": {
        "colab": {
          "base_uri": "https://localhost:8080/"
        },
        "id": "E4EptH1pgBfR",
        "outputId": "c13f9f11-dda0-4659-c736-e3e00329a3bb"
      },
      "execution_count": 33,
      "outputs": [
        {
          "output_type": "stream",
          "name": "stdout",
          "text": [
            "         Country  Beer_Servings  Wine_Servings  Total_Liters_of_Pure Continent\n",
            "0          Aruba            406            170              5.659768        AS\n",
            "1    Afghanistan            294             89              2.879947        AS\n",
            "2         Angola            373             69              1.247117        EU\n",
            "3       Anguilla            397            146              8.778993        AS\n",
            "4  Åland Islands            405            160              4.780515        EU\n"
          ]
        }
      ]
    },
    {
      "cell_type": "code",
      "source": [
        "print(drinks.tail()) #summary of files bottom"
      ],
      "metadata": {
        "colab": {
          "base_uri": "https://localhost:8080/"
        },
        "id": "62buZ5GyhQDl",
        "outputId": "6bf7b645-b0f5-448b-f5df-2bd33043e868"
      },
      "execution_count": 34,
      "outputs": [
        {
          "output_type": "stream",
          "name": "stdout",
          "text": [
            "          Country  Beer_Servings  Wine_Servings  Total_Liters_of_Pure  \\\n",
            "244         Samoa            406            113              4.221415   \n",
            "245         Yemen            240            151              4.621098   \n",
            "246  South Africa            288            185              2.665591   \n",
            "247        Zambia            303            113              4.487443   \n",
            "248      Zimbabwe             74            104              6.105018   \n",
            "\n",
            "    Continent  \n",
            "244        AS  \n",
            "245        AS  \n",
            "246        AF  \n",
            "247        EU  \n",
            "248        US  \n"
          ]
        }
      ]
    },
    {
      "cell_type": "code",
      "source": [
        "print(drinks.describe()) #Take numbers colums statics data"
      ],
      "metadata": {
        "colab": {
          "base_uri": "https://localhost:8080/"
        },
        "id": "dtyJKSKehtB0",
        "outputId": "c0d87177-9b9d-4875-ba23-defcd55d2eee"
      },
      "execution_count": 35,
      "outputs": [
        {
          "output_type": "stream",
          "name": "stdout",
          "text": [
            "       Beer_Servings  Wine_Servings  Total_Liters_of_Pure\n",
            "count     249.000000     249.000000            249.000000\n",
            "mean      269.646586     108.132530              5.386722\n",
            "std       131.864069      51.935002              2.727400\n",
            "min        50.000000      20.000000              1.041593\n",
            "25%       159.000000      60.000000              2.914799\n",
            "50%       269.000000     111.000000              5.286447\n",
            "75%       389.000000     151.000000              7.943046\n",
            "max       500.000000     200.000000              9.983448\n"
          ]
        }
      ]
    },
    {
      "cell_type": "code",
      "source": [
        "drinks.dropna() #drop any missing data"
      ],
      "metadata": {
        "colab": {
          "base_uri": "https://localhost:8080/",
          "height": 478
        },
        "id": "RsaLr1YDiK_M",
        "outputId": "448f47fc-aa78-4cbb-f915-4c31849dd673"
      },
      "execution_count": 36,
      "outputs": [
        {
          "output_type": "execute_result",
          "data": {
            "text/plain": [
              "           Country  Beer_Servings  Wine_Servings  Total_Liters_of_Pure  \\\n",
              "0            Aruba            406            170              5.659768   \n",
              "1      Afghanistan            294             89              2.879947   \n",
              "2           Angola            373             69              1.247117   \n",
              "3         Anguilla            397            146              8.778993   \n",
              "4    Åland Islands            405            160              4.780515   \n",
              "..             ...            ...            ...                   ...   \n",
              "244          Samoa            406            113              4.221415   \n",
              "245          Yemen            240            151              4.621098   \n",
              "246   South Africa            288            185              2.665591   \n",
              "247         Zambia            303            113              4.487443   \n",
              "248       Zimbabwe             74            104              6.105018   \n",
              "\n",
              "    Continent  \n",
              "0          AS  \n",
              "1          AS  \n",
              "2          EU  \n",
              "3          AS  \n",
              "4          EU  \n",
              "..        ...  \n",
              "244        AS  \n",
              "245        AS  \n",
              "246        AF  \n",
              "247        EU  \n",
              "248        US  \n",
              "\n",
              "[249 rows x 5 columns]"
            ],
            "text/html": [
              "\n",
              "  <div id=\"df-fd14bfab-2b1d-49a8-be02-39931635d532\" class=\"colab-df-container\">\n",
              "    <div>\n",
              "<style scoped>\n",
              "    .dataframe tbody tr th:only-of-type {\n",
              "        vertical-align: middle;\n",
              "    }\n",
              "\n",
              "    .dataframe tbody tr th {\n",
              "        vertical-align: top;\n",
              "    }\n",
              "\n",
              "    .dataframe thead th {\n",
              "        text-align: right;\n",
              "    }\n",
              "</style>\n",
              "<table border=\"1\" class=\"dataframe\">\n",
              "  <thead>\n",
              "    <tr style=\"text-align: right;\">\n",
              "      <th></th>\n",
              "      <th>Country</th>\n",
              "      <th>Beer_Servings</th>\n",
              "      <th>Wine_Servings</th>\n",
              "      <th>Total_Liters_of_Pure</th>\n",
              "      <th>Continent</th>\n",
              "    </tr>\n",
              "  </thead>\n",
              "  <tbody>\n",
              "    <tr>\n",
              "      <th>0</th>\n",
              "      <td>Aruba</td>\n",
              "      <td>406</td>\n",
              "      <td>170</td>\n",
              "      <td>5.659768</td>\n",
              "      <td>AS</td>\n",
              "    </tr>\n",
              "    <tr>\n",
              "      <th>1</th>\n",
              "      <td>Afghanistan</td>\n",
              "      <td>294</td>\n",
              "      <td>89</td>\n",
              "      <td>2.879947</td>\n",
              "      <td>AS</td>\n",
              "    </tr>\n",
              "    <tr>\n",
              "      <th>2</th>\n",
              "      <td>Angola</td>\n",
              "      <td>373</td>\n",
              "      <td>69</td>\n",
              "      <td>1.247117</td>\n",
              "      <td>EU</td>\n",
              "    </tr>\n",
              "    <tr>\n",
              "      <th>3</th>\n",
              "      <td>Anguilla</td>\n",
              "      <td>397</td>\n",
              "      <td>146</td>\n",
              "      <td>8.778993</td>\n",
              "      <td>AS</td>\n",
              "    </tr>\n",
              "    <tr>\n",
              "      <th>4</th>\n",
              "      <td>Åland Islands</td>\n",
              "      <td>405</td>\n",
              "      <td>160</td>\n",
              "      <td>4.780515</td>\n",
              "      <td>EU</td>\n",
              "    </tr>\n",
              "    <tr>\n",
              "      <th>...</th>\n",
              "      <td>...</td>\n",
              "      <td>...</td>\n",
              "      <td>...</td>\n",
              "      <td>...</td>\n",
              "      <td>...</td>\n",
              "    </tr>\n",
              "    <tr>\n",
              "      <th>244</th>\n",
              "      <td>Samoa</td>\n",
              "      <td>406</td>\n",
              "      <td>113</td>\n",
              "      <td>4.221415</td>\n",
              "      <td>AS</td>\n",
              "    </tr>\n",
              "    <tr>\n",
              "      <th>245</th>\n",
              "      <td>Yemen</td>\n",
              "      <td>240</td>\n",
              "      <td>151</td>\n",
              "      <td>4.621098</td>\n",
              "      <td>AS</td>\n",
              "    </tr>\n",
              "    <tr>\n",
              "      <th>246</th>\n",
              "      <td>South Africa</td>\n",
              "      <td>288</td>\n",
              "      <td>185</td>\n",
              "      <td>2.665591</td>\n",
              "      <td>AF</td>\n",
              "    </tr>\n",
              "    <tr>\n",
              "      <th>247</th>\n",
              "      <td>Zambia</td>\n",
              "      <td>303</td>\n",
              "      <td>113</td>\n",
              "      <td>4.487443</td>\n",
              "      <td>EU</td>\n",
              "    </tr>\n",
              "    <tr>\n",
              "      <th>248</th>\n",
              "      <td>Zimbabwe</td>\n",
              "      <td>74</td>\n",
              "      <td>104</td>\n",
              "      <td>6.105018</td>\n",
              "      <td>US</td>\n",
              "    </tr>\n",
              "  </tbody>\n",
              "</table>\n",
              "<p>249 rows × 5 columns</p>\n",
              "</div>\n",
              "    <div class=\"colab-df-buttons\">\n",
              "\n",
              "  <div class=\"colab-df-container\">\n",
              "    <button class=\"colab-df-convert\" onclick=\"convertToInteractive('df-fd14bfab-2b1d-49a8-be02-39931635d532')\"\n",
              "            title=\"Convert this dataframe to an interactive table.\"\n",
              "            style=\"display:none;\">\n",
              "\n",
              "  <svg xmlns=\"http://www.w3.org/2000/svg\" height=\"24px\" viewBox=\"0 -960 960 960\">\n",
              "    <path d=\"M120-120v-720h720v720H120Zm60-500h600v-160H180v160Zm220 220h160v-160H400v160Zm0 220h160v-160H400v160ZM180-400h160v-160H180v160Zm440 0h160v-160H620v160ZM180-180h160v-160H180v160Zm440 0h160v-160H620v160Z\"/>\n",
              "  </svg>\n",
              "    </button>\n",
              "\n",
              "  <style>\n",
              "    .colab-df-container {\n",
              "      display:flex;\n",
              "      gap: 12px;\n",
              "    }\n",
              "\n",
              "    .colab-df-convert {\n",
              "      background-color: #E8F0FE;\n",
              "      border: none;\n",
              "      border-radius: 50%;\n",
              "      cursor: pointer;\n",
              "      display: none;\n",
              "      fill: #1967D2;\n",
              "      height: 32px;\n",
              "      padding: 0 0 0 0;\n",
              "      width: 32px;\n",
              "    }\n",
              "\n",
              "    .colab-df-convert:hover {\n",
              "      background-color: #E2EBFA;\n",
              "      box-shadow: 0px 1px 2px rgba(60, 64, 67, 0.3), 0px 1px 3px 1px rgba(60, 64, 67, 0.15);\n",
              "      fill: #174EA6;\n",
              "    }\n",
              "\n",
              "    .colab-df-buttons div {\n",
              "      margin-bottom: 4px;\n",
              "    }\n",
              "\n",
              "    [theme=dark] .colab-df-convert {\n",
              "      background-color: #3B4455;\n",
              "      fill: #D2E3FC;\n",
              "    }\n",
              "\n",
              "    [theme=dark] .colab-df-convert:hover {\n",
              "      background-color: #434B5C;\n",
              "      box-shadow: 0px 1px 3px 1px rgba(0, 0, 0, 0.15);\n",
              "      filter: drop-shadow(0px 1px 2px rgba(0, 0, 0, 0.3));\n",
              "      fill: #FFFFFF;\n",
              "    }\n",
              "  </style>\n",
              "\n",
              "    <script>\n",
              "      const buttonEl =\n",
              "        document.querySelector('#df-fd14bfab-2b1d-49a8-be02-39931635d532 button.colab-df-convert');\n",
              "      buttonEl.style.display =\n",
              "        google.colab.kernel.accessAllowed ? 'block' : 'none';\n",
              "\n",
              "      async function convertToInteractive(key) {\n",
              "        const element = document.querySelector('#df-fd14bfab-2b1d-49a8-be02-39931635d532');\n",
              "        const dataTable =\n",
              "          await google.colab.kernel.invokeFunction('convertToInteractive',\n",
              "                                                    [key], {});\n",
              "        if (!dataTable) return;\n",
              "\n",
              "        const docLinkHtml = 'Like what you see? Visit the ' +\n",
              "          '<a target=\"_blank\" href=https://colab.research.google.com/notebooks/data_table.ipynb>data table notebook</a>'\n",
              "          + ' to learn more about interactive tables.';\n",
              "        element.innerHTML = '';\n",
              "        dataTable['output_type'] = 'display_data';\n",
              "        await google.colab.output.renderOutput(dataTable, element);\n",
              "        const docLink = document.createElement('div');\n",
              "        docLink.innerHTML = docLinkHtml;\n",
              "        element.appendChild(docLink);\n",
              "      }\n",
              "    </script>\n",
              "  </div>\n",
              "\n",
              "\n",
              "<div id=\"df-4d093b77-06f4-4272-a128-2654f8f2b6d0\">\n",
              "  <button class=\"colab-df-quickchart\" onclick=\"quickchart('df-4d093b77-06f4-4272-a128-2654f8f2b6d0')\"\n",
              "            title=\"Suggest charts\"\n",
              "            style=\"display:none;\">\n",
              "\n",
              "<svg xmlns=\"http://www.w3.org/2000/svg\" height=\"24px\"viewBox=\"0 0 24 24\"\n",
              "     width=\"24px\">\n",
              "    <g>\n",
              "        <path d=\"M19 3H5c-1.1 0-2 .9-2 2v14c0 1.1.9 2 2 2h14c1.1 0 2-.9 2-2V5c0-1.1-.9-2-2-2zM9 17H7v-7h2v7zm4 0h-2V7h2v10zm4 0h-2v-4h2v4z\"/>\n",
              "    </g>\n",
              "</svg>\n",
              "  </button>\n",
              "\n",
              "<style>\n",
              "  .colab-df-quickchart {\n",
              "      --bg-color: #E8F0FE;\n",
              "      --fill-color: #1967D2;\n",
              "      --hover-bg-color: #E2EBFA;\n",
              "      --hover-fill-color: #174EA6;\n",
              "      --disabled-fill-color: #AAA;\n",
              "      --disabled-bg-color: #DDD;\n",
              "  }\n",
              "\n",
              "  [theme=dark] .colab-df-quickchart {\n",
              "      --bg-color: #3B4455;\n",
              "      --fill-color: #D2E3FC;\n",
              "      --hover-bg-color: #434B5C;\n",
              "      --hover-fill-color: #FFFFFF;\n",
              "      --disabled-bg-color: #3B4455;\n",
              "      --disabled-fill-color: #666;\n",
              "  }\n",
              "\n",
              "  .colab-df-quickchart {\n",
              "    background-color: var(--bg-color);\n",
              "    border: none;\n",
              "    border-radius: 50%;\n",
              "    cursor: pointer;\n",
              "    display: none;\n",
              "    fill: var(--fill-color);\n",
              "    height: 32px;\n",
              "    padding: 0;\n",
              "    width: 32px;\n",
              "  }\n",
              "\n",
              "  .colab-df-quickchart:hover {\n",
              "    background-color: var(--hover-bg-color);\n",
              "    box-shadow: 0 1px 2px rgba(60, 64, 67, 0.3), 0 1px 3px 1px rgba(60, 64, 67, 0.15);\n",
              "    fill: var(--button-hover-fill-color);\n",
              "  }\n",
              "\n",
              "  .colab-df-quickchart-complete:disabled,\n",
              "  .colab-df-quickchart-complete:disabled:hover {\n",
              "    background-color: var(--disabled-bg-color);\n",
              "    fill: var(--disabled-fill-color);\n",
              "    box-shadow: none;\n",
              "  }\n",
              "\n",
              "  .colab-df-spinner {\n",
              "    border: 2px solid var(--fill-color);\n",
              "    border-color: transparent;\n",
              "    border-bottom-color: var(--fill-color);\n",
              "    animation:\n",
              "      spin 1s steps(1) infinite;\n",
              "  }\n",
              "\n",
              "  @keyframes spin {\n",
              "    0% {\n",
              "      border-color: transparent;\n",
              "      border-bottom-color: var(--fill-color);\n",
              "      border-left-color: var(--fill-color);\n",
              "    }\n",
              "    20% {\n",
              "      border-color: transparent;\n",
              "      border-left-color: var(--fill-color);\n",
              "      border-top-color: var(--fill-color);\n",
              "    }\n",
              "    30% {\n",
              "      border-color: transparent;\n",
              "      border-left-color: var(--fill-color);\n",
              "      border-top-color: var(--fill-color);\n",
              "      border-right-color: var(--fill-color);\n",
              "    }\n",
              "    40% {\n",
              "      border-color: transparent;\n",
              "      border-right-color: var(--fill-color);\n",
              "      border-top-color: var(--fill-color);\n",
              "    }\n",
              "    60% {\n",
              "      border-color: transparent;\n",
              "      border-right-color: var(--fill-color);\n",
              "    }\n",
              "    80% {\n",
              "      border-color: transparent;\n",
              "      border-right-color: var(--fill-color);\n",
              "      border-bottom-color: var(--fill-color);\n",
              "    }\n",
              "    90% {\n",
              "      border-color: transparent;\n",
              "      border-bottom-color: var(--fill-color);\n",
              "    }\n",
              "  }\n",
              "</style>\n",
              "\n",
              "  <script>\n",
              "    async function quickchart(key) {\n",
              "      const quickchartButtonEl =\n",
              "        document.querySelector('#' + key + ' button');\n",
              "      quickchartButtonEl.disabled = true;  // To prevent multiple clicks.\n",
              "      quickchartButtonEl.classList.add('colab-df-spinner');\n",
              "      try {\n",
              "        const charts = await google.colab.kernel.invokeFunction(\n",
              "            'suggestCharts', [key], {});\n",
              "      } catch (error) {\n",
              "        console.error('Error during call to suggestCharts:', error);\n",
              "      }\n",
              "      quickchartButtonEl.classList.remove('colab-df-spinner');\n",
              "      quickchartButtonEl.classList.add('colab-df-quickchart-complete');\n",
              "    }\n",
              "    (() => {\n",
              "      let quickchartButtonEl =\n",
              "        document.querySelector('#df-4d093b77-06f4-4272-a128-2654f8f2b6d0 button');\n",
              "      quickchartButtonEl.style.display =\n",
              "        google.colab.kernel.accessAllowed ? 'block' : 'none';\n",
              "    })();\n",
              "  </script>\n",
              "</div>\n",
              "    </div>\n",
              "  </div>\n"
            ]
          },
          "metadata": {},
          "execution_count": 36
        }
      ]
    },
    {
      "cell_type": "code",
      "source": [
        "drinks.fillna(value='NA') #fill in missing values"
      ],
      "metadata": {
        "colab": {
          "base_uri": "https://localhost:8080/",
          "height": 478
        },
        "id": "BYPGC55zihnU",
        "outputId": "53cb6aba-6ac4-4859-faac-caffcc2031cc"
      },
      "execution_count": 38,
      "outputs": [
        {
          "output_type": "execute_result",
          "data": {
            "text/plain": [
              "           Country  Beer_Servings  Wine_Servings  Total_Liters_of_Pure  \\\n",
              "0            Aruba            406            170              5.659768   \n",
              "1      Afghanistan            294             89              2.879947   \n",
              "2           Angola            373             69              1.247117   \n",
              "3         Anguilla            397            146              8.778993   \n",
              "4    Åland Islands            405            160              4.780515   \n",
              "..             ...            ...            ...                   ...   \n",
              "244          Samoa            406            113              4.221415   \n",
              "245          Yemen            240            151              4.621098   \n",
              "246   South Africa            288            185              2.665591   \n",
              "247         Zambia            303            113              4.487443   \n",
              "248       Zimbabwe             74            104              6.105018   \n",
              "\n",
              "    Continent  \n",
              "0          AS  \n",
              "1          AS  \n",
              "2          EU  \n",
              "3          AS  \n",
              "4          EU  \n",
              "..        ...  \n",
              "244        AS  \n",
              "245        AS  \n",
              "246        AF  \n",
              "247        EU  \n",
              "248        US  \n",
              "\n",
              "[249 rows x 5 columns]"
            ],
            "text/html": [
              "\n",
              "  <div id=\"df-56d8d63c-628b-494c-8327-328511f4c3b0\" class=\"colab-df-container\">\n",
              "    <div>\n",
              "<style scoped>\n",
              "    .dataframe tbody tr th:only-of-type {\n",
              "        vertical-align: middle;\n",
              "    }\n",
              "\n",
              "    .dataframe tbody tr th {\n",
              "        vertical-align: top;\n",
              "    }\n",
              "\n",
              "    .dataframe thead th {\n",
              "        text-align: right;\n",
              "    }\n",
              "</style>\n",
              "<table border=\"1\" class=\"dataframe\">\n",
              "  <thead>\n",
              "    <tr style=\"text-align: right;\">\n",
              "      <th></th>\n",
              "      <th>Country</th>\n",
              "      <th>Beer_Servings</th>\n",
              "      <th>Wine_Servings</th>\n",
              "      <th>Total_Liters_of_Pure</th>\n",
              "      <th>Continent</th>\n",
              "    </tr>\n",
              "  </thead>\n",
              "  <tbody>\n",
              "    <tr>\n",
              "      <th>0</th>\n",
              "      <td>Aruba</td>\n",
              "      <td>406</td>\n",
              "      <td>170</td>\n",
              "      <td>5.659768</td>\n",
              "      <td>AS</td>\n",
              "    </tr>\n",
              "    <tr>\n",
              "      <th>1</th>\n",
              "      <td>Afghanistan</td>\n",
              "      <td>294</td>\n",
              "      <td>89</td>\n",
              "      <td>2.879947</td>\n",
              "      <td>AS</td>\n",
              "    </tr>\n",
              "    <tr>\n",
              "      <th>2</th>\n",
              "      <td>Angola</td>\n",
              "      <td>373</td>\n",
              "      <td>69</td>\n",
              "      <td>1.247117</td>\n",
              "      <td>EU</td>\n",
              "    </tr>\n",
              "    <tr>\n",
              "      <th>3</th>\n",
              "      <td>Anguilla</td>\n",
              "      <td>397</td>\n",
              "      <td>146</td>\n",
              "      <td>8.778993</td>\n",
              "      <td>AS</td>\n",
              "    </tr>\n",
              "    <tr>\n",
              "      <th>4</th>\n",
              "      <td>Åland Islands</td>\n",
              "      <td>405</td>\n",
              "      <td>160</td>\n",
              "      <td>4.780515</td>\n",
              "      <td>EU</td>\n",
              "    </tr>\n",
              "    <tr>\n",
              "      <th>...</th>\n",
              "      <td>...</td>\n",
              "      <td>...</td>\n",
              "      <td>...</td>\n",
              "      <td>...</td>\n",
              "      <td>...</td>\n",
              "    </tr>\n",
              "    <tr>\n",
              "      <th>244</th>\n",
              "      <td>Samoa</td>\n",
              "      <td>406</td>\n",
              "      <td>113</td>\n",
              "      <td>4.221415</td>\n",
              "      <td>AS</td>\n",
              "    </tr>\n",
              "    <tr>\n",
              "      <th>245</th>\n",
              "      <td>Yemen</td>\n",
              "      <td>240</td>\n",
              "      <td>151</td>\n",
              "      <td>4.621098</td>\n",
              "      <td>AS</td>\n",
              "    </tr>\n",
              "    <tr>\n",
              "      <th>246</th>\n",
              "      <td>South Africa</td>\n",
              "      <td>288</td>\n",
              "      <td>185</td>\n",
              "      <td>2.665591</td>\n",
              "      <td>AF</td>\n",
              "    </tr>\n",
              "    <tr>\n",
              "      <th>247</th>\n",
              "      <td>Zambia</td>\n",
              "      <td>303</td>\n",
              "      <td>113</td>\n",
              "      <td>4.487443</td>\n",
              "      <td>EU</td>\n",
              "    </tr>\n",
              "    <tr>\n",
              "      <th>248</th>\n",
              "      <td>Zimbabwe</td>\n",
              "      <td>74</td>\n",
              "      <td>104</td>\n",
              "      <td>6.105018</td>\n",
              "      <td>US</td>\n",
              "    </tr>\n",
              "  </tbody>\n",
              "</table>\n",
              "<p>249 rows × 5 columns</p>\n",
              "</div>\n",
              "    <div class=\"colab-df-buttons\">\n",
              "\n",
              "  <div class=\"colab-df-container\">\n",
              "    <button class=\"colab-df-convert\" onclick=\"convertToInteractive('df-56d8d63c-628b-494c-8327-328511f4c3b0')\"\n",
              "            title=\"Convert this dataframe to an interactive table.\"\n",
              "            style=\"display:none;\">\n",
              "\n",
              "  <svg xmlns=\"http://www.w3.org/2000/svg\" height=\"24px\" viewBox=\"0 -960 960 960\">\n",
              "    <path d=\"M120-120v-720h720v720H120Zm60-500h600v-160H180v160Zm220 220h160v-160H400v160Zm0 220h160v-160H400v160ZM180-400h160v-160H180v160Zm440 0h160v-160H620v160ZM180-180h160v-160H180v160Zm440 0h160v-160H620v160Z\"/>\n",
              "  </svg>\n",
              "    </button>\n",
              "\n",
              "  <style>\n",
              "    .colab-df-container {\n",
              "      display:flex;\n",
              "      gap: 12px;\n",
              "    }\n",
              "\n",
              "    .colab-df-convert {\n",
              "      background-color: #E8F0FE;\n",
              "      border: none;\n",
              "      border-radius: 50%;\n",
              "      cursor: pointer;\n",
              "      display: none;\n",
              "      fill: #1967D2;\n",
              "      height: 32px;\n",
              "      padding: 0 0 0 0;\n",
              "      width: 32px;\n",
              "    }\n",
              "\n",
              "    .colab-df-convert:hover {\n",
              "      background-color: #E2EBFA;\n",
              "      box-shadow: 0px 1px 2px rgba(60, 64, 67, 0.3), 0px 1px 3px 1px rgba(60, 64, 67, 0.15);\n",
              "      fill: #174EA6;\n",
              "    }\n",
              "\n",
              "    .colab-df-buttons div {\n",
              "      margin-bottom: 4px;\n",
              "    }\n",
              "\n",
              "    [theme=dark] .colab-df-convert {\n",
              "      background-color: #3B4455;\n",
              "      fill: #D2E3FC;\n",
              "    }\n",
              "\n",
              "    [theme=dark] .colab-df-convert:hover {\n",
              "      background-color: #434B5C;\n",
              "      box-shadow: 0px 1px 3px 1px rgba(0, 0, 0, 0.15);\n",
              "      filter: drop-shadow(0px 1px 2px rgba(0, 0, 0, 0.3));\n",
              "      fill: #FFFFFF;\n",
              "    }\n",
              "  </style>\n",
              "\n",
              "    <script>\n",
              "      const buttonEl =\n",
              "        document.querySelector('#df-56d8d63c-628b-494c-8327-328511f4c3b0 button.colab-df-convert');\n",
              "      buttonEl.style.display =\n",
              "        google.colab.kernel.accessAllowed ? 'block' : 'none';\n",
              "\n",
              "      async function convertToInteractive(key) {\n",
              "        const element = document.querySelector('#df-56d8d63c-628b-494c-8327-328511f4c3b0');\n",
              "        const dataTable =\n",
              "          await google.colab.kernel.invokeFunction('convertToInteractive',\n",
              "                                                    [key], {});\n",
              "        if (!dataTable) return;\n",
              "\n",
              "        const docLinkHtml = 'Like what you see? Visit the ' +\n",
              "          '<a target=\"_blank\" href=https://colab.research.google.com/notebooks/data_table.ipynb>data table notebook</a>'\n",
              "          + ' to learn more about interactive tables.';\n",
              "        element.innerHTML = '';\n",
              "        dataTable['output_type'] = 'display_data';\n",
              "        await google.colab.output.renderOutput(dataTable, element);\n",
              "        const docLink = document.createElement('div');\n",
              "        docLink.innerHTML = docLinkHtml;\n",
              "        element.appendChild(docLink);\n",
              "      }\n",
              "    </script>\n",
              "  </div>\n",
              "\n",
              "\n",
              "<div id=\"df-be05eee5-df82-455c-8245-fa263aaed92a\">\n",
              "  <button class=\"colab-df-quickchart\" onclick=\"quickchart('df-be05eee5-df82-455c-8245-fa263aaed92a')\"\n",
              "            title=\"Suggest charts\"\n",
              "            style=\"display:none;\">\n",
              "\n",
              "<svg xmlns=\"http://www.w3.org/2000/svg\" height=\"24px\"viewBox=\"0 0 24 24\"\n",
              "     width=\"24px\">\n",
              "    <g>\n",
              "        <path d=\"M19 3H5c-1.1 0-2 .9-2 2v14c0 1.1.9 2 2 2h14c1.1 0 2-.9 2-2V5c0-1.1-.9-2-2-2zM9 17H7v-7h2v7zm4 0h-2V7h2v10zm4 0h-2v-4h2v4z\"/>\n",
              "    </g>\n",
              "</svg>\n",
              "  </button>\n",
              "\n",
              "<style>\n",
              "  .colab-df-quickchart {\n",
              "      --bg-color: #E8F0FE;\n",
              "      --fill-color: #1967D2;\n",
              "      --hover-bg-color: #E2EBFA;\n",
              "      --hover-fill-color: #174EA6;\n",
              "      --disabled-fill-color: #AAA;\n",
              "      --disabled-bg-color: #DDD;\n",
              "  }\n",
              "\n",
              "  [theme=dark] .colab-df-quickchart {\n",
              "      --bg-color: #3B4455;\n",
              "      --fill-color: #D2E3FC;\n",
              "      --hover-bg-color: #434B5C;\n",
              "      --hover-fill-color: #FFFFFF;\n",
              "      --disabled-bg-color: #3B4455;\n",
              "      --disabled-fill-color: #666;\n",
              "  }\n",
              "\n",
              "  .colab-df-quickchart {\n",
              "    background-color: var(--bg-color);\n",
              "    border: none;\n",
              "    border-radius: 50%;\n",
              "    cursor: pointer;\n",
              "    display: none;\n",
              "    fill: var(--fill-color);\n",
              "    height: 32px;\n",
              "    padding: 0;\n",
              "    width: 32px;\n",
              "  }\n",
              "\n",
              "  .colab-df-quickchart:hover {\n",
              "    background-color: var(--hover-bg-color);\n",
              "    box-shadow: 0 1px 2px rgba(60, 64, 67, 0.3), 0 1px 3px 1px rgba(60, 64, 67, 0.15);\n",
              "    fill: var(--button-hover-fill-color);\n",
              "  }\n",
              "\n",
              "  .colab-df-quickchart-complete:disabled,\n",
              "  .colab-df-quickchart-complete:disabled:hover {\n",
              "    background-color: var(--disabled-bg-color);\n",
              "    fill: var(--disabled-fill-color);\n",
              "    box-shadow: none;\n",
              "  }\n",
              "\n",
              "  .colab-df-spinner {\n",
              "    border: 2px solid var(--fill-color);\n",
              "    border-color: transparent;\n",
              "    border-bottom-color: var(--fill-color);\n",
              "    animation:\n",
              "      spin 1s steps(1) infinite;\n",
              "  }\n",
              "\n",
              "  @keyframes spin {\n",
              "    0% {\n",
              "      border-color: transparent;\n",
              "      border-bottom-color: var(--fill-color);\n",
              "      border-left-color: var(--fill-color);\n",
              "    }\n",
              "    20% {\n",
              "      border-color: transparent;\n",
              "      border-left-color: var(--fill-color);\n",
              "      border-top-color: var(--fill-color);\n",
              "    }\n",
              "    30% {\n",
              "      border-color: transparent;\n",
              "      border-left-color: var(--fill-color);\n",
              "      border-top-color: var(--fill-color);\n",
              "      border-right-color: var(--fill-color);\n",
              "    }\n",
              "    40% {\n",
              "      border-color: transparent;\n",
              "      border-right-color: var(--fill-color);\n",
              "      border-top-color: var(--fill-color);\n",
              "    }\n",
              "    60% {\n",
              "      border-color: transparent;\n",
              "      border-right-color: var(--fill-color);\n",
              "    }\n",
              "    80% {\n",
              "      border-color: transparent;\n",
              "      border-right-color: var(--fill-color);\n",
              "      border-bottom-color: var(--fill-color);\n",
              "    }\n",
              "    90% {\n",
              "      border-color: transparent;\n",
              "      border-bottom-color: var(--fill-color);\n",
              "    }\n",
              "  }\n",
              "</style>\n",
              "\n",
              "  <script>\n",
              "    async function quickchart(key) {\n",
              "      const quickchartButtonEl =\n",
              "        document.querySelector('#' + key + ' button');\n",
              "      quickchartButtonEl.disabled = true;  // To prevent multiple clicks.\n",
              "      quickchartButtonEl.classList.add('colab-df-spinner');\n",
              "      try {\n",
              "        const charts = await google.colab.kernel.invokeFunction(\n",
              "            'suggestCharts', [key], {});\n",
              "      } catch (error) {\n",
              "        console.error('Error during call to suggestCharts:', error);\n",
              "      }\n",
              "      quickchartButtonEl.classList.remove('colab-df-spinner');\n",
              "      quickchartButtonEl.classList.add('colab-df-quickchart-complete');\n",
              "    }\n",
              "    (() => {\n",
              "      let quickchartButtonEl =\n",
              "        document.querySelector('#df-be05eee5-df82-455c-8245-fa263aaed92a button');\n",
              "      quickchartButtonEl.style.display =\n",
              "        google.colab.kernel.accessAllowed ? 'block' : 'none';\n",
              "    })();\n",
              "  </script>\n",
              "</div>\n",
              "    </div>\n",
              "  </div>\n"
            ]
          },
          "metadata": {},
          "execution_count": 38
        }
      ]
    },
    {
      "cell_type": "code",
      "source": [
        "#select multiple columns\n",
        "\n",
        "my_cols = ['Country','Beer_Servings']\n",
        "print(drinks[my_cols])"
      ],
      "metadata": {
        "colab": {
          "base_uri": "https://localhost:8080/"
        },
        "id": "zE0aFy8gi4U7",
        "outputId": "a0695d25-4cb5-4b65-f478-0d431c813bfc"
      },
      "execution_count": 40,
      "outputs": [
        {
          "output_type": "stream",
          "name": "stdout",
          "text": [
            "           Country  Beer_Servings\n",
            "0            Aruba            406\n",
            "1      Afghanistan            294\n",
            "2           Angola            373\n",
            "3         Anguilla            397\n",
            "4    Åland Islands            405\n",
            "..             ...            ...\n",
            "244          Samoa            406\n",
            "245          Yemen            240\n",
            "246   South Africa            288\n",
            "247         Zambia            303\n",
            "248       Zimbabwe             74\n",
            "\n",
            "[249 rows x 2 columns]\n"
          ]
        }
      ]
    },
    {
      "cell_type": "code",
      "source": [
        "#add new columns\n",
        "\n",
        "drinks['total_servings'] = drinks.Beer_Servings + drinks.Wine_Servings\n",
        "\n",
        "print(drinks.head())"
      ],
      "metadata": {
        "colab": {
          "base_uri": "https://localhost:8080/"
        },
        "id": "G1homGD_jhii",
        "outputId": "840ea3c9-a87b-4a60-e3d3-634eb8710380"
      },
      "execution_count": 42,
      "outputs": [
        {
          "output_type": "stream",
          "name": "stdout",
          "text": [
            "         Country  Beer_Servings  Wine_Servings  Total_Liters_of_Pure  \\\n",
            "0          Aruba            406            170              5.659768   \n",
            "1    Afghanistan            294             89              2.879947   \n",
            "2         Angola            373             69              1.247117   \n",
            "3       Anguilla            397            146              8.778993   \n",
            "4  Åland Islands            405            160              4.780515   \n",
            "\n",
            "  Continent  total_servings  \n",
            "0        AS             576  \n",
            "1        AS             383  \n",
            "2        EU             442  \n",
            "3        AS             543  \n",
            "4        EU             565  \n"
          ]
        }
      ]
    },
    {
      "cell_type": "code",
      "source": [
        "#calculations\n",
        "\n",
        "print(drinks.groupby('Continent').Beer_Servings.mean())"
      ],
      "metadata": {
        "colab": {
          "base_uri": "https://localhost:8080/"
        },
        "id": "cStptOwnjkH6",
        "outputId": "62cbb05f-56c6-4e98-fd46-54be2d456753"
      },
      "execution_count": 47,
      "outputs": [
        {
          "output_type": "stream",
          "name": "stdout",
          "text": [
            "Continent\n",
            "AF    246.594595\n",
            "AS    300.333333\n",
            "EU    283.000000\n",
            "OC    250.923077\n",
            "SA    272.631579\n",
            "US    265.490196\n",
            "Name: Beer_Servings, dtype: float64\n"
          ]
        }
      ]
    },
    {
      "cell_type": "code",
      "source": [
        "#data visualizing - chart Package name - matplotlib\n",
        "\n",
        "import matplotlib.pyplot as plt\n",
        "\n",
        "\n",
        "drinks.Continent.value_counts().plot(kind='bar',title='Countries per Containent')\n",
        "plt.xlabel('Containent')\n",
        "plt.ylabel('Count')\n",
        "\n",
        "plt.show"
      ],
      "metadata": {
        "colab": {
          "base_uri": "https://localhost:8080/",
          "height": 495
        },
        "id": "ktPWXt8ZkYSZ",
        "outputId": "ab199450-66d4-47ef-8efe-be0e73184c48"
      },
      "execution_count": 54,
      "outputs": [
        {
          "output_type": "execute_result",
          "data": {
            "text/plain": [
              "<function matplotlib.pyplot.show(close=None, block=None)>"
            ]
          },
          "metadata": {},
          "execution_count": 54
        },
        {
          "output_type": "display_data",
          "data": {
            "text/plain": [
              "<Figure size 640x480 with 1 Axes>"
            ],
            "image/png": "[encoded data removed]"
          },
          "metadata": {}
        }
      ]
    },
    {
      "cell_type": "code",
      "source": [
        "#histogram chart\n",
        "\n",
        "drinks.Beer_Servings.hist(bins=20)"
      ],
      "metadata": {
        "colab": {
          "base_uri": "https://localhost:8080/",
          "height": 447
        },
        "id": "HI5wdzGbt6-D",
        "outputId": "163f6067-f82c-4921-9d52-1d0b64b713a8"
      },
      "execution_count": 56,
      "outputs": [
        {
          "output_type": "execute_result",
          "data": {
            "text/plain": [
              "<Axes: >"
            ]
          },
          "metadata": {},
          "execution_count": 56
        },
        {
          "output_type": "display_data",
          "data": {
            "text/plain": [
              "<Figure size 640x480 with 1 Axes>"
            ],
            "image/png": "[encoded data removed]"
          },
          "metadata": {}
        }
      ]
    },
    {
      "cell_type": "code",
      "source": [
        "# boxplot - chart\n",
        "\n",
        "drinks.boxplot(column='Beer_Servings', by='Continent')"
      ],
      "metadata": {
        "colab": {
          "base_uri": "https://localhost:8080/",
          "height": 495
        },
        "id": "KzhgSwgduRyU",
        "outputId": "e44fbb86-1904-448f-800e-c66b19995c09"
      },
      "execution_count": 61,
      "outputs": [
        {
          "output_type": "execute_result",
          "data": {
            "text/plain": [
              "<Axes: title={'center': 'Beer_Servings'}, xlabel='Continent'>"
            ]
          },
          "metadata": {},
          "execution_count": 61
        },
        {
          "output_type": "display_data",
          "data": {
            "text/plain": [
              "<Figure size 640x480 with 1 Axes>"
            ],
            "image/png": "[encoded data removed]"
          },
          "metadata": {}
        }
      ]
    },
    {
      "cell_type": "code",
      "source": [
        " # scatter plot\n",
        "\n",
        " x = np.array([5,7,8,7,2,17,10,9,8,6,7,1])\n",
        " y = np.array([99,78,84,77,29,170,100,987,88,606,77,101])\n",
        "\n",
        " plt.scatter(x,y, color='#88c999')\n",
        " plt.show()\n",
        "\n"
      ],
      "metadata": {
        "colab": {
          "base_uri": "https://localhost:8080/",
          "height": 430
        },
        "id": "jvAJl6KnvVNs",
        "outputId": "cdc8f845-66b3-4faf-9e1e-cd14603fd90a"
      },
      "execution_count": 63,
      "outputs": [
        {
          "output_type": "display_data",
          "data": {
            "text/plain": [
              "<Figure size 640x480 with 1 Axes>"
            ],
            "image/png": "[encoded data removed]"
          },
          "metadata": {}
        }
      ]
    },
    {
      "cell_type": "code",
      "source": [
        "#pie chart\n",
        "\n",
        "y = np.array([55,99,36,15])\n",
        "\n",
        "mylabels = [\"Apple\",\"Mango\",\"Bannana\",\"Orange\"]\n",
        "\n",
        "plt.pie(y,labels=mylabels)\n",
        "\n",
        "plt.show()"
      ],
      "metadata": {
        "colab": {
          "base_uri": "https://localhost:8080/",
          "height": 406
        },
        "id": "ot02RHqEyXci",
        "outputId": "f586a05a-368a-4d48-cc7f-7e3caaaaf5f2"
      },
      "execution_count": 65,
      "outputs": [
        {
          "output_type": "display_data",
          "data": {
            "text/plain": [
              "<Figure size 640x480 with 1 Axes>"
            ],
            "image/png": "[encoded data removed]"
          },
          "metadata": {}
        }
      ]
    },
    {
      "cell_type": "code",
      "source": [
        "#pie chart\n",
        "#pie chart variations - expolode/shadow\n",
        "#save data as png\n",
        "#save data as pdf\n",
        "\n",
        "y = np.array([55,99,36,15])\n",
        "\n",
        "mylabels = [\"Apple\",\"Mango\",\"Bannana\",\"Orange\"]\n",
        "myexpolode = [0.2,0,0,0]\n",
        "\n",
        "plt.pie(y,labels=mylabels,explode=myexpolode,shadow=True)\n",
        "\n",
        "plt.legend()\n",
        "plt.savefig(\"abc.png\")\n",
        "plt.savefig(\"abc.pdf\")\n",
        "\n",
        "plt.show()"
      ],
      "metadata": {
        "colab": {
          "base_uri": "https://localhost:8080/",
          "height": 406
        },
        "id": "MLemAjgzzPlG",
        "outputId": "7066f648-71e9-479e-f823-e4b4d3146177"
      },
      "execution_count": 70,
      "outputs": [
        {
          "output_type": "display_data",
          "data": {
            "text/plain": [
              "<Figure size 640x480 with 1 Axes>"
            ],
            "image/png": "[encoded data removed]"
          },
          "metadata": {}
        }
      ]
    },
    {
      "cell_type": "code",
      "source": [
        "\n",
        "#3D chart\n",
        "\n",
        "x = [1,2,3,4,5,7]\n",
        "y = [1,2,4,10,9,8]\n",
        "z = [1,8,24,72,501,45]\n",
        "\n",
        "fig = plt.figure()\n",
        "\n",
        "ax = plt.axes(projection='3d')\n",
        "ax.plot3D(z,y,x)\n"
      ],
      "metadata": {
        "colab": {
          "base_uri": "https://localhost:8080/",
          "height": 432
        },
        "id": "rUHj9GXt9sM5",
        "outputId": "ff723d53-5fd4-464d-ea48-b23f581d5fdf"
      },
      "execution_count": 79,
      "outputs": [
        {
          "output_type": "execute_result",
          "data": {
            "text/plain": [
              "[<mpl_toolkits.mplot3d.art3d.Line3D at 0x7c3763596470>]"
            ]
          },
          "metadata": {},
          "execution_count": 79
        },
        {
          "output_type": "display_data",
          "data": {
            "text/plain": [
              "<Figure size 640x480 with 1 Axes>"
            ],
            "image/png": "[encoded data removed]"
          },
          "metadata": {}
        }
      ]
    },
    {
      "cell_type": "code",
      "source": [],
      "metadata": {
        "id": "KG0ixQjVDTb4"
      },
      "execution_count": null,
      "outputs": []
    },
    {
      "cell_type": "code",
      "source": [],
      "metadata": {
        "id": "B6626xrSDMz-"
      },
      "execution_count": null,
      "outputs": []
    },
    {
      "cell_type": "code",
      "source": [],
      "metadata": {
        "id": "2pk6yoxjzJfa"
      },
      "execution_count": null,
      "outputs": []
    }
  ]
}